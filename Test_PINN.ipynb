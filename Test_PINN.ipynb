{
 "cells": [
  {
   "cell_type": "code",
   "execution_count": 6,
   "id": "ee927fbb",
   "metadata": {},
   "outputs": [],
   "source": [
    "# For simulation \n",
    "####################################\n",
    "import tensorflow as tf\n",
    "#import tensorflow_addons as tfa\n",
    "from tensorflow.keras.models import Model\n",
    "from tensorflow.keras.layers import Dense\n",
    "from tensorflow.keras.optimizers import Adam\n",
    "#import tensorflow_addons.optimizers.AdamW as AdamW\n",
    "#from tensorflow.keras.optimizers.experimental import AdamW\n",
    "import numpy as np\n",
    "from os.path import dirname, join as pjoin\n",
    "import scipy\n",
    "import time\n",
    "import os\n",
    "import argparse\n",
    "from utils import *\n",
    "from PINN_net import *\n",
    "import json\n",
    "\n",
    "save_fol='' # To save the neural network parameters and loss, not needed for test (generate) process\n",
    "net_fol='' # Folder where trained PINN model is saved\n",
    "pretrained_net='p_109_noiseless\\\\helm.h5' # pretrained_network name\n",
    "\n",
    "agent = Pinn(save_fol,2)\n",
    "\n",
    "agent.load_weights(pjoin(net_fol,pretrained_net))\n",
    "\n",
    "############################\n",
    "# Generate the envelope field \n",
    "############################\n",
    "r_test=np.linspace(1000,4000,301)\n",
    "z_test=np.linspace(0,216.5,300)\n",
    "\n",
    "z_test_re=np.tile(z_test,r_test.shape[0]) #extend\n",
    "z_test_re=z_test_re[:,np.newaxis]\n",
    "r_test_re=np.repeat(r_test,z_test.shape[0],axis=0) #extend\n",
    "r_test_re=r_test_re[:,np.newaxis]\n",
    "rz_test=np.concatenate([r_test_re,z_test_re],axis=1)\n",
    "\n",
    "\n",
    "p_result=agent.predict(rz_test)\n",
    "\n",
    "############################\n",
    "# Save as matlab file\n",
    "############################\n",
    "scipy.io.savemat(pjoin(save_fol,'p_estimate_final.mat'),{'p_result':p_result.numpy(),'r_test':r_test,'z_test':z_test})"
   ]
  }
 ],
 "metadata": {
  "kernelspec": {
   "display_name": "Python 3 (ipykernel)",
   "language": "python",
   "name": "python3"
  },
  "language_info": {
   "codemirror_mode": {
    "name": "ipython",
    "version": 3
   },
   "file_extension": ".py",
   "mimetype": "text/x-python",
   "name": "python",
   "nbconvert_exporter": "python",
   "pygments_lexer": "ipython3",
   "version": "3.9.13"
  }
 },
 "nbformat": 4,
 "nbformat_minor": 5
}
